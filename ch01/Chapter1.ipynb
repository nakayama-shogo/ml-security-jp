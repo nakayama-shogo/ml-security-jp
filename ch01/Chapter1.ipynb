{
  "nbformat": 4,
  "nbformat_minor": 0,
  "metadata": {
    "colab": {
      "name": "Chapter1.ipynb",
      "provenance": [],
      "gpuType": "T4"
    },
    "kernelspec": {
      "name": "python3",
      "display_name": "Python 3"
    },
    "language_info": {
      "name": "python"
    },
    "accelerator": "GPU"
  },
  "cells": [
    {
      "cell_type": "markdown",
      "metadata": {
        "id": "icMuF6uzg5qR"
      },
      "source": [
        "## 1章 情報セキュリティエンジニアのための機械学習入門"
      ]
    },
    {
      "cell_type": "code",
      "metadata": {
        "id": "8cX0lhShg2D3",
        "outputId": "a0889e56-ffa2-469a-c519-fed660aecc80",
        "colab": {
          "base_uri": "https://localhost:8080/"
        }
      },
      "source": [
        "print(\"Hello world!\")"
      ],
      "execution_count": 1,
      "outputs": [
        {
          "output_type": "stream",
          "name": "stdout",
          "text": [
            "Hello world!\n"
          ]
        }
      ]
    },
    {
      "cell_type": "markdown",
      "source": [
        "Jゼミで使用したものです\n",
        "ランタイムをT4 GPUにして作業する"
      ],
      "metadata": {
        "id": "dat255i6UAhk"
      }
    },
    {
      "cell_type": "markdown",
      "source": [
        "# 機械学習とは\n",
        "データセットの作成\n",
        "  データの取得と整理、ラベル付け\n",
        "データの読み込み、前処理\n",
        "  前処理、欠損値処理、ノイズ除去\n",
        "データの探索、特徴量の設計\n",
        "  見たい、知りたい、推定したい量を「特徴づける量」を探す\n",
        "モデルの訓練と評価\n",
        "  データセットを用いた訓練、アンサブル試行など。うまくいかない場合は一つ前に戻って再設計\n",
        "\n"
      ],
      "metadata": {
        "id": "6IJDD9_yVVa3"
      }
    },
    {
      "cell_type": "markdown",
      "source": [
        "# 今後の予定\n",
        "数学的なお話はあんまりしないけれど、必要に応じて。イメージはたくさん話すことになります。図はたくさん作ります。\n",
        "公開されているライブラリのドキュメントをちゃんと読んで、使えるようになりましょう"
      ],
      "metadata": {
        "id": "CJEZOsciaMuD"
      }
    }
  ]
}